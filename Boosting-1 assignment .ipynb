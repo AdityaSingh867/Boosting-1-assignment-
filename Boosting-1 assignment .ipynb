{
 "cells": [
  {
   "cell_type": "markdown",
   "id": "03057ff7-20f7-41a0-8ed3-085e7b8eaed4",
   "metadata": {},
   "source": [
    "Q1. What is boosting in machine learning?"
   ]
  },
  {
   "cell_type": "markdown",
   "id": "ba6c22f6-d842-49af-bf71-d8dbd59368de",
   "metadata": {},
   "source": [
    "Boosting is a method used in machine learning to reduce errors in predictive data analysis."
   ]
  },
  {
   "cell_type": "markdown",
   "id": "14c16f4c-44c2-4784-823f-425fd75f67c1",
   "metadata": {},
   "source": [
    "Q2. What are the advantages and limitations of using boosting techniques?"
   ]
  },
  {
   "cell_type": "markdown",
   "id": "8c8b3ee5-f085-4c21-90c0-a6d8e16f3aad",
   "metadata": {},
   "source": [
    "One disadvantage of boosting is that it is sensitive to outliers since every classifier is obliged to fix the errors in the predecessors.\n",
    "\n",
    "one Advantage is that it increase the right pridection of model."
   ]
  },
  {
   "cell_type": "markdown",
   "id": "d5a75847-40e4-4b32-9e60-dff174721419",
   "metadata": {},
   "source": [
    "Q3. Explain how boosting works."
   ]
  },
  {
   "cell_type": "markdown",
   "id": "83acfabb-421f-4804-898d-3e0c96b8cf3d",
   "metadata": {},
   "source": [
    "a random sample of data is selected, fitted with a model and then trained sequentially—that is, each model tries to compensate for the weaknesses of its predecessor."
   ]
  },
  {
   "cell_type": "markdown",
   "id": "72a2e1c1-9826-4ed6-9016-e8d223645c46",
   "metadata": {},
   "source": [
    "There is many Decision trees seprated in Sequence line by line like ((Decision_tree = dt) dt1 , dt2 , dt3 , dt4 .......................  dtn) and than a random sample of data is selected from the original Dataset and give it to Decision tree 1st than they predict the outcome whict outcome wrong predict by the 1st Decision tree then the wrong prediction is transferred  to 2nd decision tree than which outcome wrong predict by the 2nd Decision tree than the wrong predicted is transferred to 3 Decision tree these steps will going till \"n\". the dt1 , dt2 , dt3 ..... is called weak "
   ]
  },
  {
   "cell_type": "markdown",
   "id": "de89cbf1-8323-47a6-b222-32728e2ec4df",
   "metadata": {},
   "source": [
    "Q4. What are the different types of boosting algorithms?"
   ]
  },
  {
   "cell_type": "markdown",
   "id": "f6217fd7-8bf3-4e4e-a169-ef28792a8f03",
   "metadata": {},
   "source": [
    "- Adaboost\n",
    "- Gradient\n",
    "- Xgboost"
   ]
  },
  {
   "cell_type": "markdown",
   "id": "80673a9f-e1a2-4f3d-b31b-2f3c22f9ea64",
   "metadata": {},
   "source": [
    "Q5. What are some common parameters in boosting algorithms?"
   ]
  },
  {
   "cell_type": "markdown",
   "id": "fb88b870-c29d-4474-8947-a144294d8c6b",
   "metadata": {},
   "source": [
    "- Learning rate\n",
    "- N estimators\n",
    "- Random state\n",
    "- max_depth\n",
    "- min_samples_split\n",
    "- min_samples_leaf\n",
    "- subsample"
   ]
  },
  {
   "cell_type": "markdown",
   "id": "8ac1e905-c7c2-4a95-ad50-0eaae4746edd",
   "metadata": {},
   "source": [
    "Q6. How do boosting algorithms combine weak learners to create a strong learner?"
   ]
  },
  {
   "cell_type": "markdown",
   "id": "037d7fc6-e747-49e5-af12-505dbad60f12",
   "metadata": {},
   "source": [
    "In Sequence"
   ]
  },
  {
   "cell_type": "markdown",
   "id": "68adf881-3ffa-414e-86b3-5154b009bd9e",
   "metadata": {},
   "source": [
    "Q7. Explain the concept of AdaBoost algorithm and its working."
   ]
  },
  {
   "cell_type": "markdown",
   "id": "f26694f8-438c-4cc2-af6f-0364875826fe",
   "metadata": {},
   "source": [
    "\n",
    "It trained many weak model in a Sequence and make a strong by combining all the weak models."
   ]
  },
  {
   "cell_type": "markdown",
   "id": "533611f4-3112-43b8-a311-0d2da3dc1a5c",
   "metadata": {},
   "source": [
    "Q8. What is the loss function used in AdaBoost algorithm?"
   ]
  },
  {
   "cell_type": "markdown",
   "id": "015808d7-e688-4bf2-ad03-db5771fd0b17",
   "metadata": {},
   "source": [
    "The error function that AdaBoost uses is an exponential loss function."
   ]
  },
  {
   "cell_type": "markdown",
   "id": "e44cf1a7-ee55-4547-887b-05b4add0ccd6",
   "metadata": {},
   "source": [
    "Q9. How does the AdaBoost algorithm update the weights of misclassified samples?"
   ]
  },
  {
   "cell_type": "markdown",
   "id": "9d7ebfa0-bf3c-40c3-9454-6dfd43bfc65b",
   "metadata": {},
   "source": [
    "This is done by making misclassified cases to be updated with increased weights after an iteration."
   ]
  },
  {
   "cell_type": "markdown",
   "id": "e5e8f860-705d-42a9-bea2-ea98be1107ee",
   "metadata": {},
   "source": [
    "Q10. What is the effect of increasing the number of estimators in AdaBoost algorithm?"
   ]
  },
  {
   "cell_type": "markdown",
   "id": "1a479bdb-ee1b-4300-88a9-296db7934b1d",
   "metadata": {},
   "source": [
    "increasing the number of estimators does not always result in better performance. In some cases, for bigger values of n_estimators, the model starts to overfit, which gives worse performance"
   ]
  }
 ],
 "metadata": {
  "kernelspec": {
   "display_name": "Python 3 (ipykernel)",
   "language": "python",
   "name": "python3"
  },
  "language_info": {
   "codemirror_mode": {
    "name": "ipython",
    "version": 3
   },
   "file_extension": ".py",
   "mimetype": "text/x-python",
   "name": "python",
   "nbconvert_exporter": "python",
   "pygments_lexer": "ipython3",
   "version": "3.10.8"
  }
 },
 "nbformat": 4,
 "nbformat_minor": 5
}
